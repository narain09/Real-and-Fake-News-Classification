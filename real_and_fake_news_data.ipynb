{
  "cells": [
    {
      "cell_type": "markdown",
      "source": [
        "## Real and fake News Classification\n",
        "<hr>\n",
        "\n",
        " > Prepared by: Narain Manoharan\n",
        "\n",
        " > IIT Madras\n",
        "\n",
        " <hr>"
      ],
      "metadata": {
        "id": "PMsYfEEIKUr0"
      }
    },
    {
      "metadata": {
        "_uuid": "8f2839f25d086af736a60e9eeb907d3b93b6e0e5",
        "_cell_guid": "b1076dfc-b9ad-4769-8c92-a6c4dae69d19",
        "trusted": true,
        "id": "F9wrqDc9KIAV"
      },
      "cell_type": "code",
      "source": [
        "\n",
        "import numpy as np # linear algebra\n",
        "import pandas as pd # data processing, CSV file I/O (e.g. pd.read_csv)\n",
        "\n",
        "\n",
        "import os\n",
        "for dirname, _, filenames in os.walk('/kaggle/input'):\n",
        "    for filename in filenames:\n",
        "        print(os.path.join(dirname, filename))"
      ],
      "execution_count": null,
      "outputs": []
    },
    {
      "metadata": {
        "trusted": true,
        "id": "d0T3gJ4BKIAZ"
      },
      "cell_type": "code",
      "source": [
        "import seaborn as sns\n",
        "import matplotlib.pyplot as plt\n",
        "import plotly.express as px\n",
        "from wordcloud import WordCloud"
      ],
      "execution_count": null,
      "outputs": []
    },
    {
      "metadata": {
        "trusted": true,
        "id": "6qKrkgOKKIAb"
      },
      "cell_type": "code",
      "source": [
        "true_d = pd.read_csv('../input/fake-and-real-news-dataset/True.csv')\n",
        "fake_d = pd.read_csv('../input/fake-and-real-news-dataset/Fake.csv')"
      ],
      "execution_count": null,
      "outputs": []
    },
    {
      "metadata": {
        "trusted": true,
        "id": "oa6griFoKIAb"
      },
      "cell_type": "code",
      "source": [
        "true_d.head(10)"
      ],
      "execution_count": null,
      "outputs": []
    },
    {
      "metadata": {
        "trusted": true,
        "id": "uWjVZ6X8KIAc"
      },
      "cell_type": "code",
      "source": [
        "fake_d.head(10)"
      ],
      "execution_count": null,
      "outputs": []
    },
    {
      "metadata": {
        "trusted": true,
        "id": "-rjijKF3KIAc"
      },
      "cell_type": "code",
      "source": [
        "fake_d['target'] = 0\n",
        "true_d['target'] = 1"
      ],
      "execution_count": null,
      "outputs": []
    },
    {
      "metadata": {
        "trusted": true,
        "id": "s_KuFJD_KIAc"
      },
      "cell_type": "code",
      "source": [
        "df = pd.concat([fake_d,true_d], ignore_index = True, sort = False)"
      ],
      "execution_count": null,
      "outputs": []
    },
    {
      "metadata": {
        "trusted": true,
        "id": "6jxOEFy9KIAd"
      },
      "cell_type": "code",
      "source": [
        "print(df.shape)"
      ],
      "execution_count": null,
      "outputs": []
    },
    {
      "metadata": {
        "trusted": true,
        "id": "A5xMBmdLKIAd"
      },
      "cell_type": "code",
      "source": [
        "plt.figure(figsize=(15,7))\n",
        "ax = sns.countplot(y = df.loc[df['target']==0]['subject'],label='Fake')\n",
        "ax.set_title('Distribution')\n",
        "ax.legend()"
      ],
      "execution_count": null,
      "outputs": []
    },
    {
      "metadata": {
        "trusted": true,
        "id": "pyrCtK6jKIAd"
      },
      "cell_type": "code",
      "source": [
        "df1 = df"
      ],
      "execution_count": null,
      "outputs": []
    },
    {
      "metadata": {
        "trusted": true,
        "id": "bYzOiGy0KIAe"
      },
      "cell_type": "code",
      "source": [
        "df1['title'] = df1['title'] + ' ' + df1['subject']"
      ],
      "execution_count": null,
      "outputs": []
    },
    {
      "metadata": {
        "trusted": true,
        "id": "sNUyxKYsKIAe"
      },
      "cell_type": "code",
      "source": [
        "fake_words = ' '.join(list(df1[df1['target']==0]['title']))\n",
        "spam_wc = WordCloud(width = 1000, height=500).generate(fake_words)\n",
        "plt.figure(figsize=(10,10))\n",
        "plt.imshow(spam_wc)\n",
        "plt.axis('off')\n",
        "plt.show()"
      ],
      "execution_count": null,
      "outputs": []
    },
    {
      "metadata": {
        "trusted": true,
        "id": "8vwob-oVKIAf"
      },
      "cell_type": "code",
      "source": [
        "df.info()"
      ],
      "execution_count": null,
      "outputs": []
    },
    {
      "metadata": {
        "trusted": true,
        "id": "0LnDOg3mKIAf"
      },
      "cell_type": "code",
      "source": [
        "df['date']"
      ],
      "execution_count": null,
      "outputs": []
    },
    {
      "metadata": {
        "trusted": true,
        "id": "1q-P_XdgKIAg"
      },
      "cell_type": "code",
      "source": [
        "import datetime as dt"
      ],
      "execution_count": null,
      "outputs": []
    },
    {
      "metadata": {
        "trusted": true,
        "id": "X6hIq4NoKIAg"
      },
      "cell_type": "code",
      "source": [
        "df['date'] = df['date'].str.replace(' ', '')"
      ],
      "execution_count": null,
      "outputs": []
    },
    {
      "metadata": {
        "trusted": true,
        "id": "sIWIUUqEKIAg"
      },
      "cell_type": "code",
      "source": [
        "for i, val in enumerate(df['date']):\n",
        "    df['date'].iloc[i] = pd.to_datetime(df['date'].iloc[i], format='%B%d,%Y', errors='coerce')"
      ],
      "execution_count": null,
      "outputs": []
    },
    {
      "metadata": {
        "trusted": true,
        "id": "SwbgJWibKIAg"
      },
      "cell_type": "code",
      "source": [
        "df['date'] = df['date'].astype('datetime64[ns]')"
      ],
      "execution_count": null,
      "outputs": []
    },
    {
      "metadata": {
        "trusted": true,
        "id": "jVqOiYuKKIAh"
      },
      "cell_type": "code",
      "source": [
        "df['year'] = pd.to_datetime(df['date']).dt.to_period('Y')\n",
        "df['month'] = pd.to_datetime(df['date']).dt.to_period('M')\n",
        "\n",
        "df['month'] = df['month'].astype(str)"
      ],
      "execution_count": null,
      "outputs": []
    },
    {
      "metadata": {
        "trusted": true,
        "id": "oALUGUk7KIAh"
      },
      "cell_type": "code",
      "source": [
        "df2 = df[['month', 'target']]\n",
        "df2 = df2.groupby(['month'])['target'].sum()"
      ],
      "execution_count": null,
      "outputs": []
    },
    {
      "metadata": {
        "trusted": true,
        "id": "OcfGgaSgKIAi"
      },
      "cell_type": "code",
      "source": [
        "df2"
      ],
      "execution_count": null,
      "outputs": []
    },
    {
      "metadata": {
        "trusted": true,
        "id": "J6jPrxyjKIAi"
      },
      "cell_type": "code",
      "source": [
        "df2 = df2.drop('NaT')"
      ],
      "execution_count": null,
      "outputs": []
    },
    {
      "metadata": {
        "trusted": true,
        "id": "Jq-cSyUgKIAj"
      },
      "cell_type": "code",
      "source": [
        "plt.plot(df2.index, df2.values, linewidth=2)\n",
        "plt.suptitle('Dynamics of fake news')\n",
        "plt.xticks(rotation=90)\n",
        "plt.ylabel('Number of fake news')\n",
        "plt.xlabel('Month-Year')"
      ],
      "execution_count": null,
      "outputs": []
    },
    {
      "metadata": {
        "trusted": true,
        "id": "CKfPP_IHKIAj"
      },
      "cell_type": "code",
      "source": [
        "from nltk.tokenize import word_tokenize\n",
        "from nltk.corpus import stopwords\n",
        "from nltk.stem import PorterStemmer"
      ],
      "execution_count": null,
      "outputs": []
    },
    {
      "metadata": {
        "trusted": true,
        "id": "UkaxBeOcKIAj"
      },
      "cell_type": "code",
      "source": [
        "df1['title'] = df1['title'].apply(lambda x: word_tokenize(str(x)))\n",
        "stemmer = PorterStemmer()\n",
        "df1['title'] = df1['title'].apply(lambda x: [stemmer.stem(y) for y in x])\n",
        "stopword = stopwords.words('english')\n",
        "df1['title'] = df1['title'].apply(lambda x: [y for y in x if y not in stopword])\n"
      ],
      "execution_count": null,
      "outputs": []
    },
    {
      "metadata": {
        "trusted": true,
        "id": "vnofz41jKIAj"
      },
      "cell_type": "code",
      "source": [
        "df1['title'] = df1['title'].apply(lambda x: ' '.join(x))"
      ],
      "execution_count": null,
      "outputs": []
    },
    {
      "metadata": {
        "trusted": true,
        "id": "N7P5rW7sKIAk"
      },
      "cell_type": "code",
      "source": [
        "from sklearn.feature_extraction.text import TfidfVectorizer"
      ],
      "execution_count": null,
      "outputs": []
    },
    {
      "metadata": {
        "trusted": true,
        "id": "kZfhrGqoKIAk"
      },
      "cell_type": "code",
      "source": [
        "tfid = TfidfVectorizer()\n",
        "X = tfid.fit_transform(df1['title'])"
      ],
      "execution_count": null,
      "outputs": []
    },
    {
      "metadata": {
        "trusted": true,
        "id": "VAdu457YKIAk"
      },
      "cell_type": "code",
      "source": [
        "from sklearn.model_selection import train_test_split\n",
        "X_train, X_test, y_train, y_test = train_test_split(X, df1['target'], train_size=0.7, random_state=0)"
      ],
      "execution_count": null,
      "outputs": []
    },
    {
      "metadata": {
        "trusted": true,
        "id": "o27LX9GfKIAl"
      },
      "cell_type": "code",
      "source": [
        "from sklearn.naive_bayes import MultinomialNB"
      ],
      "execution_count": null,
      "outputs": []
    },
    {
      "metadata": {
        "trusted": true,
        "id": "37nAvbmVKIAl"
      },
      "cell_type": "code",
      "source": [
        "mult = MultinomialNB()\n",
        "mult.fit(X_train, y_train, sample_weight=None)"
      ],
      "execution_count": null,
      "outputs": []
    },
    {
      "metadata": {
        "trusted": true,
        "id": "-j9TakgkKIAl"
      },
      "cell_type": "code",
      "source": [
        "y_pred = mult.predict(X_test)"
      ],
      "execution_count": null,
      "outputs": []
    },
    {
      "metadata": {
        "trusted": true,
        "id": "FaH0KT2vKIAm"
      },
      "cell_type": "code",
      "source": [
        "from sklearn.metrics import accuracy_score, f1_score, confusion_matrix"
      ],
      "execution_count": null,
      "outputs": []
    },
    {
      "metadata": {
        "trusted": true,
        "id": "14DPWhdZKIAm"
      },
      "cell_type": "code",
      "source": [
        "print(accuracy_score(y_test,y_pred))"
      ],
      "execution_count": null,
      "outputs": []
    },
    {
      "metadata": {
        "trusted": true,
        "id": "_lrAnHEDKIAm"
      },
      "cell_type": "code",
      "source": [
        "conf = confusion_matrix(y_test,y_pred)\n",
        "ax = sns.heatmap(conf, annot = True)\n",
        "ax.set(xlabel = 'predict',ylabel='True')"
      ],
      "execution_count": null,
      "outputs": []
    },
    {
      "metadata": {
        "trusted": true,
        "id": "uSUBuzqHKIAm"
      },
      "cell_type": "code",
      "source": [
        "from xgboost import XGBClassifier"
      ],
      "execution_count": null,
      "outputs": []
    },
    {
      "metadata": {
        "trusted": true,
        "id": "W2zTnwvfKIAq"
      },
      "cell_type": "code",
      "source": [
        "xg = XGBClassifier(eval_metric='rmse', use_label_encoder=False)\n",
        "xg.fit(X_train, y_train)"
      ],
      "execution_count": null,
      "outputs": []
    },
    {
      "metadata": {
        "trusted": true,
        "id": "fIuDgsjBKIAq"
      },
      "cell_type": "code",
      "source": [
        "y_pred1 = xg.predict(X_test)"
      ],
      "execution_count": null,
      "outputs": []
    },
    {
      "metadata": {
        "trusted": true,
        "id": "NGsOvDRPKIAq"
      },
      "cell_type": "code",
      "source": [
        "print(accuracy_score(y_test,y_pred1))"
      ],
      "execution_count": null,
      "outputs": []
    },
    {
      "metadata": {
        "trusted": true,
        "id": "VxmOvFQFKIA8"
      },
      "cell_type": "code",
      "source": [
        "conf = confusion_matrix(y_test,y_pred1)\n",
        "ax = sns.heatmap(conf, annot = True)\n",
        "ax.set(xlabel = 'predict',ylabel='True')"
      ],
      "execution_count": null,
      "outputs": []
    },
    {
      "metadata": {
        "trusted": true,
        "id": "x9E1fcweKIA9"
      },
      "cell_type": "code",
      "source": [],
      "execution_count": null,
      "outputs": []
    }
  ],
  "metadata": {
    "kernelspec": {
      "language": "python",
      "display_name": "Python 3",
      "name": "python3"
    },
    "language_info": {
      "pygments_lexer": "ipython3",
      "nbconvert_exporter": "python",
      "version": "3.6.4",
      "file_extension": ".py",
      "codemirror_mode": {
        "name": "ipython",
        "version": 3
      },
      "name": "python",
      "mimetype": "text/x-python"
    },
    "colab": {
      "provenance": []
    }
  },
  "nbformat": 4,
  "nbformat_minor": 0
}